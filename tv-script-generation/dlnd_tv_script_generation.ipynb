{
 "cells": [
  {
   "cell_type": "markdown",
   "metadata": {
    "deletable": true,
    "editable": true
   },
   "source": [
    "# TV Script Generation\n",
    "In this project, you'll generate your own [Simpsons](https://en.wikipedia.org/wiki/The_Simpsons) TV scripts using RNNs.  You'll be using part of the [Simpsons dataset](https://www.kaggle.com/wcukierski/the-simpsons-by-the-data) of scripts from 27 seasons.  The Neural Network you'll build will generate a new TV script for a scene at [Moe's Tavern](https://simpsonswiki.com/wiki/Moe's_Tavern).\n",
    "## Get the Data\n",
    "The data is already provided for you.  You'll be using a subset of the original dataset.  It consists of only the scenes in Moe's Tavern.  This doesn't include other versions of the tavern, like \"Moe's Cavern\", \"Flaming Moe's\", \"Uncle Moe's Family Feed-Bag\", etc.."
   ]
  },
  {
   "cell_type": "code",
   "execution_count": 1,
   "metadata": {
    "collapsed": false,
    "deletable": true,
    "editable": true
   },
   "outputs": [],
   "source": [
    "\"\"\"\n",
    "DON'T MODIFY ANYTHING IN THIS CELL\n",
    "\"\"\"\n",
    "import helper\n",
    "\n",
    "data_dir = './data/simpsons/moes_tavern_lines.txt'\n",
    "text = helper.load_data(data_dir)\n",
    "# Ignore notice, since we don't use it for analysing the data\n",
    "text = text[81:]"
   ]
  },
  {
   "cell_type": "markdown",
   "metadata": {
    "deletable": true,
    "editable": true
   },
   "source": [
    "## Explore the Data\n",
    "Play around with `view_sentence_range` to view different parts of the data."
   ]
  },
  {
   "cell_type": "code",
   "execution_count": 2,
   "metadata": {
    "collapsed": false,
    "deletable": true,
    "editable": true
   },
   "outputs": [
    {
     "name": "stdout",
     "output_type": "stream",
     "text": [
      "Dataset Stats\n",
      "Roughly the number of unique words: 11492\n",
      "Number of scenes: 262\n",
      "Average number of sentences in each scene: 15.248091603053435\n",
      "Number of lines: 4257\n",
      "Average number of words in each line: 11.50434578341555\n",
      "\n",
      "The sentences 0 to 10:\n",
      "Moe_Szyslak: (INTO PHONE) Moe's Tavern. Where the elite meet to drink.\n",
      "Bart_Simpson: Eh, yeah, hello, is Mike there? Last name, Rotch.\n",
      "Moe_Szyslak: (INTO PHONE) Hold on, I'll check. (TO BARFLIES) Mike Rotch. Mike Rotch. Hey, has anybody seen Mike Rotch, lately?\n",
      "Moe_Szyslak: (INTO PHONE) Listen you little puke. One of these days I'm gonna catch you, and I'm gonna carve my name on your back with an ice pick.\n",
      "Moe_Szyslak: What's the matter Homer? You're not your normal effervescent self.\n",
      "Homer_Simpson: I got my problems, Moe. Give me another one.\n",
      "Moe_Szyslak: Homer, hey, you should not drink to forget your problems.\n",
      "Barney_Gumble: Yeah, you should only drink to enhance your social skills.\n",
      "\n",
      "\n"
     ]
    }
   ],
   "source": [
    "view_sentence_range = (0, 10)\n",
    "\n",
    "\"\"\"\n",
    "DON'T MODIFY ANYTHING IN THIS CELL\n",
    "\"\"\"\n",
    "import numpy as np\n",
    "\n",
    "print('Dataset Stats')\n",
    "print('Roughly the number of unique words: {}'.format(len({word: None for word in text.split()})))\n",
    "scenes = text.split('\\n\\n')\n",
    "print('Number of scenes: {}'.format(len(scenes)))\n",
    "sentence_count_scene = [scene.count('\\n') for scene in scenes]\n",
    "print('Average number of sentences in each scene: {}'.format(np.average(sentence_count_scene)))\n",
    "\n",
    "sentences = [sentence for scene in scenes for sentence in scene.split('\\n')]\n",
    "print('Number of lines: {}'.format(len(sentences)))\n",
    "word_count_sentence = [len(sentence.split()) for sentence in sentences]\n",
    "print('Average number of words in each line: {}'.format(np.average(word_count_sentence)))\n",
    "\n",
    "print()\n",
    "print('The sentences {} to {}:'.format(*view_sentence_range))\n",
    "print('\\n'.join(text.split('\\n')[view_sentence_range[0]:view_sentence_range[1]]))"
   ]
  },
  {
   "cell_type": "markdown",
   "metadata": {
    "deletable": true,
    "editable": true
   },
   "source": [
    "## Implement Preprocessing Functions\n",
    "The first thing to do to any dataset is preprocessing.  Implement the following preprocessing functions below:\n",
    "- Lookup Table\n",
    "- Tokenize Punctuation\n",
    "\n",
    "### Lookup Table\n",
    "To create a word embedding, you first need to transform the words to ids.  In this function, create two dictionaries:\n",
    "- Dictionary to go from the words to an id, we'll call `vocab_to_int`\n",
    "- Dictionary to go from the id to word, we'll call `int_to_vocab`\n",
    "\n",
    "Return these dictionaries in the following tuple `(vocab_to_int, int_to_vocab)`"
   ]
  },
  {
   "cell_type": "code",
   "execution_count": 3,
   "metadata": {
    "collapsed": false,
    "deletable": true,
    "editable": true
   },
   "outputs": [
    {
     "name": "stdout",
     "output_type": "stream",
     "text": [
      "Tests Passed\n"
     ]
    }
   ],
   "source": [
    "import numpy as np\n",
    "import problem_unittests as tests\n",
    "\n",
    "def create_lookup_tables(text):\n",
    "    \"\"\"\n",
    "    Create lookup tables for vocabulary\n",
    "    :param text: The text of tv scripts split into words\n",
    "    :return: A tuple of dicts (vocab_to_int, int_to_vocab)\n",
    "    \"\"\"\n",
    "    # TODO: Implement Function\n",
    "    # map vocabulary to index and index to vocabulary. \n",
    "    vocab_to_int = {vocab: i for i, vocab in enumerate(set(text))}\n",
    "    int_to_vocab = {i: vocab for i, vocab in enumerate(set(text))}\n",
    "    return (vocab_to_int, int_to_vocab)\n",
    "\n",
    "\n",
    "\"\"\"\n",
    "DON'T MODIFY ANYTHING IN THIS CELL THAT IS BELOW THIS LINE\n",
    "\"\"\"\n",
    "tests.test_create_lookup_tables(create_lookup_tables)"
   ]
  },
  {
   "cell_type": "markdown",
   "metadata": {
    "deletable": true,
    "editable": true
   },
   "source": [
    "### Tokenize Punctuation\n",
    "We'll be splitting the script into a word array using spaces as delimiters.  However, punctuations like periods and exclamation marks make it hard for the neural network to distinguish between the word \"bye\" and \"bye!\".\n",
    "\n",
    "Implement the function `token_lookup` to return a dict that will be used to tokenize symbols like \"!\" into \"||Exclamation_Mark||\".  Create a dictionary for the following symbols where the symbol is the key and value is the token:\n",
    "- Period ( . )\n",
    "- Comma ( , )\n",
    "- Quotation Mark ( \" )\n",
    "- Semicolon ( ; )\n",
    "- Exclamation mark ( ! )\n",
    "- Question mark ( ? )\n",
    "- Left Parentheses ( ( )\n",
    "- Right Parentheses ( ) )\n",
    "- Dash ( -- )\n",
    "- Return ( \\n )\n",
    "\n",
    "This dictionary will be used to token the symbols and add the delimiter (space) around it.  This separates the symbols as it's own word, making it easier for the neural network to predict on the next word. Make sure you don't use a token that could be confused as a word. Instead of using the token \"dash\", try using something like \"||dash||\"."
   ]
  },
  {
   "cell_type": "code",
   "execution_count": 4,
   "metadata": {
    "collapsed": false,
    "deletable": true,
    "editable": true
   },
   "outputs": [
    {
     "name": "stdout",
     "output_type": "stream",
     "text": [
      "Tests Passed\n"
     ]
    }
   ],
   "source": [
    "def token_lookup():\n",
    "    \"\"\"\n",
    "    Generate a dict to turn punctuation into a token.\n",
    "    :return: Tokenize dictionary where the key is the punctuation and the value is the token\n",
    "    \"\"\"\n",
    "    # TODO: Implement Function\n",
    "    return {\n",
    "        \".\": \"||period||\",\n",
    "        \",\": \"||comma||\",\n",
    "        \"\\\"\": \"||quotation_mark||\",\n",
    "        \";\": \"||semicolon||\",\n",
    "        \"!\": \"||exclamation_mark||\",\n",
    "        \"?\": \"||question_mark||\",\n",
    "        \"(\": \"||left_parentheses||\",\n",
    "        \")\": \"||right_parentheses||\",\n",
    "        \"--\": \"||dash||\",\n",
    "        \"\\n\": \"||return||\",\n",
    "    }\n",
    "\n",
    "\"\"\"\n",
    "DON'T MODIFY ANYTHING IN THIS CELL THAT IS BELOW THIS LINE\n",
    "\"\"\"\n",
    "tests.test_tokenize(token_lookup)"
   ]
  },
  {
   "cell_type": "markdown",
   "metadata": {
    "deletable": true,
    "editable": true
   },
   "source": [
    "## Preprocess all the data and save it\n",
    "Running the code cell below will preprocess all the data and save it to file."
   ]
  },
  {
   "cell_type": "code",
   "execution_count": 5,
   "metadata": {
    "collapsed": false,
    "deletable": true,
    "editable": true
   },
   "outputs": [],
   "source": [
    "\"\"\"\n",
    "DON'T MODIFY ANYTHING IN THIS CELL\n",
    "\"\"\"\n",
    "# Preprocess Training, Validation, and Testing Data\n",
    "helper.preprocess_and_save_data(data_dir, token_lookup, create_lookup_tables)"
   ]
  },
  {
   "cell_type": "markdown",
   "metadata": {
    "deletable": true,
    "editable": true
   },
   "source": [
    "# Check Point\n",
    "This is your first checkpoint. If you ever decide to come back to this notebook or have to restart the notebook, you can start from here. The preprocessed data has been saved to disk."
   ]
  },
  {
   "cell_type": "code",
   "execution_count": 6,
   "metadata": {
    "collapsed": false,
    "deletable": true,
    "editable": true
   },
   "outputs": [],
   "source": [
    "\"\"\"\n",
    "DON'T MODIFY ANYTHING IN THIS CELL\n",
    "\"\"\"\n",
    "import helper\n",
    "import numpy as np\n",
    "import problem_unittests as tests\n",
    "\n",
    "int_text, vocab_to_int, int_to_vocab, token_dict = helper.load_preprocess()"
   ]
  },
  {
   "cell_type": "markdown",
   "metadata": {
    "deletable": true,
    "editable": true
   },
   "source": [
    "## Build the Neural Network\n",
    "You'll build the components necessary to build a RNN by implementing the following functions below:\n",
    "- get_inputs\n",
    "- get_init_cell\n",
    "- get_embed\n",
    "- build_rnn\n",
    "- build_nn\n",
    "- get_batches\n",
    "\n",
    "### Check the Version of TensorFlow and Access to GPU"
   ]
  },
  {
   "cell_type": "code",
   "execution_count": 7,
   "metadata": {
    "collapsed": false,
    "deletable": true,
    "editable": true
   },
   "outputs": [
    {
     "name": "stdout",
     "output_type": "stream",
     "text": [
      "TensorFlow Version: 1.0.0\n",
      "Default GPU Device: /gpu:0\n"
     ]
    }
   ],
   "source": [
    "\"\"\"\n",
    "DON'T MODIFY ANYTHING IN THIS CELL\n",
    "\"\"\"\n",
    "from distutils.version import LooseVersion\n",
    "import warnings\n",
    "import tensorflow as tf\n",
    "\n",
    "# Check TensorFlow Version\n",
    "assert LooseVersion(tf.__version__) >= LooseVersion('1.0'), 'Please use TensorFlow version 1.0 or newer'\n",
    "print('TensorFlow Version: {}'.format(tf.__version__))\n",
    "\n",
    "# Check for a GPU\n",
    "if not tf.test.gpu_device_name():\n",
    "    warnings.warn('No GPU found. Please use a GPU to train your neural network.')\n",
    "else:\n",
    "    print('Default GPU Device: {}'.format(tf.test.gpu_device_name()))"
   ]
  },
  {
   "cell_type": "markdown",
   "metadata": {
    "deletable": true,
    "editable": true
   },
   "source": [
    "### Input\n",
    "Implement the `get_inputs()` function to create TF Placeholders for the Neural Network.  It should create the following placeholders:\n",
    "- Input text placeholder named \"input\" using the [TF Placeholder](https://www.tensorflow.org/api_docs/python/tf/placeholder) `name` parameter.\n",
    "- Targets placeholder\n",
    "- Learning Rate placeholder\n",
    "\n",
    "Return the placeholders in the following tuple `(Input, Targets, LearningRate)`"
   ]
  },
  {
   "cell_type": "code",
   "execution_count": 8,
   "metadata": {
    "collapsed": false,
    "deletable": true,
    "editable": true
   },
   "outputs": [
    {
     "name": "stdout",
     "output_type": "stream",
     "text": [
      "Tests Passed\n"
     ]
    }
   ],
   "source": [
    "def get_inputs():\n",
    "    \"\"\"\n",
    "    Create TF Placeholders for input, targets, and learning rate.\n",
    "    :return: Tuple (input, targets, learning rate)\n",
    "    \"\"\"\n",
    "    # TODO: Implement Function\n",
    "    inputs = tf.placeholder(tf.int32, [None, None], name='input')\n",
    "    targets = tf.placeholder(tf.int32, [None, None], name='targets')\n",
    "    learning_rate = tf.placeholder(tf.float32, name='learning_rate')\n",
    "    \n",
    "    return (inputs, targets, learning_rate)\n",
    "\n",
    "\n",
    "\"\"\"\n",
    "DON'T MODIFY ANYTHING IN THIS CELL THAT IS BELOW THIS LINE\n",
    "\"\"\"\n",
    "tests.test_get_inputs(get_inputs)"
   ]
  },
  {
   "cell_type": "markdown",
   "metadata": {
    "deletable": true,
    "editable": true
   },
   "source": [
    "### Build RNN Cell and Initialize\n",
    "Stack one or more [`BasicLSTMCells`](https://www.tensorflow.org/api_docs/python/tf/contrib/rnn/BasicLSTMCell) in a [`MultiRNNCell`](https://www.tensorflow.org/api_docs/python/tf/contrib/rnn/MultiRNNCell).\n",
    "- The Rnn size should be set using `rnn_size`\n",
    "- Initalize Cell State using the MultiRNNCell's [`zero_state()`](https://www.tensorflow.org/api_docs/python/tf/contrib/rnn/MultiRNNCell#zero_state) function\n",
    "    - Apply the name \"initial_state\" to the initial state using [`tf.identity()`](https://www.tensorflow.org/api_docs/python/tf/identity)\n",
    "\n",
    "Return the cell and initial state in the following tuple `(Cell, InitialState)`"
   ]
  },
  {
   "cell_type": "code",
   "execution_count": 9,
   "metadata": {
    "collapsed": false,
    "deletable": true,
    "editable": true
   },
   "outputs": [
    {
     "name": "stdout",
     "output_type": "stream",
     "text": [
      "Tests Passed\n"
     ]
    }
   ],
   "source": [
    "def get_init_cell(batch_size, rnn_size):\n",
    "    \"\"\"\n",
    "    Create an RNN Cell and initialize it.\n",
    "    :param batch_size: Size of batches\n",
    "    :param rnn_size: Size of RNNs\n",
    "    :return: Tuple (cell, initialize state)\n",
    "    \"\"\"\n",
    "    # TODO: Implement Function\n",
    "    lstm = tf.contrib.rnn.BasicLSTMCell(rnn_size)\n",
    "    drop = tf.contrib.rnn.DropoutWrapper(lstm)\n",
    "    cell = tf.contrib.rnn.MultiRNNCell([drop])\n",
    "    \n",
    "    initial_state = tf.identity(cell.zero_state(batch_size, tf.float32), \n",
    "                                name='initial_state')\n",
    "    \n",
    "    return (cell, initial_state)\n",
    "\n",
    "\n",
    "\"\"\"\n",
    "DON'T MODIFY ANYTHING IN THIS CELL THAT IS BELOW THIS LINE\n",
    "\"\"\"\n",
    "tests.test_get_init_cell(get_init_cell)"
   ]
  },
  {
   "cell_type": "markdown",
   "metadata": {
    "deletable": true,
    "editable": true
   },
   "source": [
    "### Word Embedding\n",
    "Apply embedding to `input_data` using TensorFlow.  Return the embedded sequence."
   ]
  },
  {
   "cell_type": "code",
   "execution_count": 10,
   "metadata": {
    "collapsed": false,
    "deletable": true,
    "editable": true
   },
   "outputs": [
    {
     "name": "stdout",
     "output_type": "stream",
     "text": [
      "Tests Passed\n"
     ]
    }
   ],
   "source": [
    "def get_embed(input_data, vocab_size, embed_dim):\n",
    "    \"\"\"\n",
    "    Create embedding for <input_data>.\n",
    "    :param input_data: TF placeholder for text input.\n",
    "    :param vocab_size: Number of words in vocabulary.\n",
    "    :param embed_dim: Number of embedding dimensions\n",
    "    :return: Embedded input.\n",
    "    \"\"\"\n",
    "    # TODO: Implement Function\n",
    "    # Using tensorflow embedded sequence function.\n",
    "    return tf.contrib.layers.embed_sequence(input_data, vocab_size, embed_dim)\n",
    "\n",
    "\n",
    "\"\"\"\n",
    "DON'T MODIFY ANYTHING IN THIS CELL THAT IS BELOW THIS LINE\n",
    "\"\"\"\n",
    "tests.test_get_embed(get_embed)"
   ]
  },
  {
   "cell_type": "markdown",
   "metadata": {
    "deletable": true,
    "editable": true
   },
   "source": [
    "### Build RNN\n",
    "You created a RNN Cell in the `get_init_cell()` function.  Time to use the cell to create a RNN.\n",
    "- Build the RNN using the [`tf.nn.dynamic_rnn()`](https://www.tensorflow.org/api_docs/python/tf/nn/dynamic_rnn)\n",
    " - Apply the name \"final_state\" to the final state using [`tf.identity()`](https://www.tensorflow.org/api_docs/python/tf/identity)\n",
    "\n",
    "Return the outputs and final_state state in the following tuple `(Outputs, FinalState)` "
   ]
  },
  {
   "cell_type": "code",
   "execution_count": 11,
   "metadata": {
    "collapsed": false,
    "deletable": true,
    "editable": true
   },
   "outputs": [
    {
     "name": "stdout",
     "output_type": "stream",
     "text": [
      "Tests Passed\n"
     ]
    }
   ],
   "source": [
    "def build_rnn(cell, inputs):\n",
    "    \"\"\"\n",
    "    Create a RNN using a RNN Cell\n",
    "    :param cell: RNN Cell\n",
    "    :param inputs: Input text data\n",
    "    :return: Tuple (Outputs, Final State)\n",
    "    \"\"\"\n",
    "    # TODO: Implement Function\n",
    "    outputs, state = tf.nn.dynamic_rnn(cell, inputs, dtype=tf.float32)\n",
    "    state = tf.identity(state, 'final_state')\n",
    "    \n",
    "    return (outputs, state)\n",
    "\n",
    "\n",
    "\"\"\"\n",
    "DON'T MODIFY ANYTHING IN THIS CELL THAT IS BELOW THIS LINE\n",
    "\"\"\"\n",
    "tests.test_build_rnn(build_rnn)"
   ]
  },
  {
   "cell_type": "markdown",
   "metadata": {
    "deletable": true,
    "editable": true
   },
   "source": [
    "### Build the Neural Network\n",
    "Apply the functions you implemented above to:\n",
    "- Apply embedding to `input_data` using your `get_embed(input_data, vocab_size, embed_dim)` function.\n",
    "- Build RNN using `cell` and your `build_rnn(cell, inputs)` function.\n",
    "- Apply a fully connected layer with a linear activation and `vocab_size` as the number of outputs.\n",
    "\n",
    "Return the logits and final state in the following tuple (Logits, FinalState) "
   ]
  },
  {
   "cell_type": "code",
   "execution_count": 12,
   "metadata": {
    "collapsed": false,
    "deletable": true,
    "editable": true
   },
   "outputs": [
    {
     "name": "stdout",
     "output_type": "stream",
     "text": [
      "Tests Passed\n"
     ]
    }
   ],
   "source": [
    "def build_nn(cell, rnn_size, input_data, vocab_size, embed_dim):\n",
    "    \"\"\"\n",
    "    Build part of the neural network\n",
    "    :param cell: RNN cell\n",
    "    :param rnn_size: Size of rnns\n",
    "    :param input_data: Input data\n",
    "    :param vocab_size: Vocabulary size\n",
    "    :param embed_dim: Number of embedding dimensions\n",
    "    :return: Tuple (Logits, FinalState)\n",
    "    \"\"\"\n",
    "    # TODO: Implement Function\n",
    "    inputs = get_embed(input_data, vocab_size, embed_dim)\n",
    "    outputs, state = build_rnn(cell, inputs)\n",
    "    logits = tf.contrib.layers.fully_connected(outputs, \n",
    "                                               vocab_size, \n",
    "                                               activation_fn=None)\n",
    "    \n",
    "    return (logits, state)\n",
    "\n",
    "\n",
    "\"\"\"\n",
    "DON'T MODIFY ANYTHING IN THIS CELL THAT IS BELOW THIS LINE\n",
    "\"\"\"\n",
    "tests.test_build_nn(build_nn)"
   ]
  },
  {
   "cell_type": "markdown",
   "metadata": {
    "deletable": true,
    "editable": true
   },
   "source": [
    "### Batches\n",
    "Implement `get_batches` to create batches of input and targets using `int_text`.  The batches should be a Numpy array with the shape `(number of batches, 2, batch size, sequence length)`. Each batch contains two elements:\n",
    "- The first element is a single batch of **input** with the shape `[batch size, sequence length]`\n",
    "- The second element is a single batch of **targets** with the shape `[batch size, sequence length]`\n",
    "\n",
    "If you can't fill the last batch with enough data, drop the last batch.\n",
    "\n",
    "For exmple, `get_batches([1, 2, 3, 4, 5, 6, 7, 8, 9, 10, 11, 12, 13, 14, 15, 16, 17, 18, 19, 20], 3, 2)` would return a Numpy array of the following:\n",
    "```\n",
    "[\n",
    "  # First Batch\n",
    "  [\n",
    "    # Batch of Input\n",
    "    [[ 1  2], [ 7  8], [13 14]]\n",
    "    # Batch of targets\n",
    "    [[ 2  3], [ 8  9], [14 15]]\n",
    "  ]\n",
    "\n",
    "  # Second Batch\n",
    "  [\n",
    "    # Batch of Input\n",
    "    [[ 3  4], [ 9 10], [15 16]]\n",
    "    # Batch of targets\n",
    "    [[ 4  5], [10 11], [16 17]]\n",
    "  ]\n",
    "\n",
    "  # Third Batch\n",
    "  [\n",
    "    # Batch of Input\n",
    "    [[ 5  6], [11 12], [17 18]]\n",
    "    # Batch of targets\n",
    "    [[ 6  7], [12 13], [18  1]]\n",
    "  ]\n",
    "]\n",
    "```\n",
    "\n",
    "Notice that the last target value in the last batch is the first input value of the first batch. In this case, `1`. This is a common technique used when creating sequence batches, although it is rather unintuitive."
   ]
  },
  {
   "cell_type": "code",
   "execution_count": 13,
   "metadata": {
    "collapsed": false,
    "deletable": true,
    "editable": true
   },
   "outputs": [
    {
     "name": "stdout",
     "output_type": "stream",
     "text": [
      "Tests Passed\n"
     ]
    }
   ],
   "source": [
    "def get_batches(int_text, batch_size, seq_length):\n",
    "    \"\"\"\n",
    "    Return batches of input and target\n",
    "    :param int_text: Text with the words replaced by their ids\n",
    "    :param batch_size: The size of batch\n",
    "    :param seq_length: The length of sequence\n",
    "    :return: Batches as a Numpy array\n",
    "    \"\"\"\n",
    "    # TODO: Implement Function\n",
    "    \n",
    "    n_batches = len(int_text) // (batch_size * seq_length)\n",
    "    \n",
    "    inputs = np.array(int_text[: (n_batches * batch_size * seq_length)])\n",
    "    inputs_batches = np.split(inputs.reshape(batch_size, -1), n_batches, 1)\n",
    "    \n",
    "    # numpy circular shift\n",
    "    targets = np.roll(inputs, -1)\n",
    "    targets_batches = np.split(targets.reshape(batch_size, -1), n_batches, 1)\n",
    "    \n",
    "    return np.array(list(zip(inputs_batches, targets_batches)))\n",
    "\n",
    "\n",
    "\"\"\"\n",
    "DON'T MODIFY ANYTHING IN THIS CELL THAT IS BELOW THIS LINE\n",
    "\"\"\"\n",
    "tests.test_get_batches(get_batches)"
   ]
  },
  {
   "cell_type": "markdown",
   "metadata": {
    "deletable": true,
    "editable": true
   },
   "source": [
    "## Neural Network Training\n",
    "### Hyperparameters\n",
    "Tune the following parameters:\n",
    "\n",
    "- Set `num_epochs` to the number of epochs.\n",
    "- Set `batch_size` to the batch size.\n",
    "- Set `rnn_size` to the size of the RNNs.\n",
    "- Set `embed_dim` to the size of the embedding.\n",
    "- Set `seq_length` to the length of sequence.\n",
    "- Set `learning_rate` to the learning rate.\n",
    "- Set `show_every_n_batches` to the number of batches the neural network should print progress."
   ]
  },
  {
   "cell_type": "code",
   "execution_count": 14,
   "metadata": {
    "collapsed": true,
    "deletable": true,
    "editable": true
   },
   "outputs": [],
   "source": [
    "# Number of Epochs\n",
    "num_epochs = 50 # 50 for final, 10 for testing.\n",
    "# Batch Size\n",
    "batch_size = 256\n",
    "# RNN Size\n",
    "rnn_size = 740\n",
    "# Embedding Dimension Size\n",
    "embed_dim = 200\n",
    "# Sequence Length\n",
    "seq_length = 12\n",
    "# Learning Rate\n",
    "learning_rate = 0.01\n",
    "# Show stats for every n number of batches\n",
    "show_every_n_batches = 4\n",
    "\n",
    "\"\"\"\n",
    "DON'T MODIFY ANYTHING IN THIS CELL THAT IS BELOW THIS LINE\n",
    "\"\"\"\n",
    "save_dir = './save'"
   ]
  },
  {
   "cell_type": "markdown",
   "metadata": {
    "deletable": true,
    "editable": true
   },
   "source": [
    "### Build the Graph\n",
    "Build the graph using the neural network you implemented."
   ]
  },
  {
   "cell_type": "code",
   "execution_count": 15,
   "metadata": {
    "collapsed": false,
    "deletable": true,
    "editable": true
   },
   "outputs": [],
   "source": [
    "\"\"\"\n",
    "DON'T MODIFY ANYTHING IN THIS CELL\n",
    "\"\"\"\n",
    "from tensorflow.contrib import seq2seq\n",
    "\n",
    "train_graph = tf.Graph()\n",
    "with train_graph.as_default():\n",
    "    vocab_size = len(int_to_vocab)\n",
    "    input_text, targets, lr = get_inputs()\n",
    "    input_data_shape = tf.shape(input_text)\n",
    "    cell, initial_state = get_init_cell(input_data_shape[0], rnn_size)\n",
    "    logits, final_state = build_nn(cell, rnn_size, input_text, vocab_size, embed_dim)\n",
    "\n",
    "    # Probabilities for generating words\n",
    "    probs = tf.nn.softmax(logits, name='probs')\n",
    "\n",
    "    # Loss function\n",
    "    cost = seq2seq.sequence_loss(\n",
    "        logits,\n",
    "        targets,\n",
    "        tf.ones([input_data_shape[0], input_data_shape[1]]))\n",
    "\n",
    "    # Optimizer\n",
    "    optimizer = tf.train.AdamOptimizer(lr)\n",
    "\n",
    "    # Gradient Clipping\n",
    "    gradients = optimizer.compute_gradients(cost)\n",
    "    capped_gradients = [(tf.clip_by_value(grad, -1., 1.), var) for grad, var in gradients if grad is not None]\n",
    "    train_op = optimizer.apply_gradients(capped_gradients)"
   ]
  },
  {
   "cell_type": "markdown",
   "metadata": {
    "deletable": true,
    "editable": true
   },
   "source": [
    "## Train\n",
    "Train the neural network on the preprocessed data.  If you have a hard time getting a good loss, check the [forums](https://discussions.udacity.com/) to see if anyone is having the same problem."
   ]
  },
  {
   "cell_type": "code",
   "execution_count": 16,
   "metadata": {
    "collapsed": false,
    "deletable": true,
    "editable": true
   },
   "outputs": [
    {
     "name": "stdout",
     "output_type": "stream",
     "text": [
      "Epoch   0 Batch    0/22   train_loss = 8.822\n",
      "Epoch   0 Batch    4/22   train_loss = 8.623\n",
      "Epoch   0 Batch    8/22   train_loss = 7.042\n",
      "Epoch   0 Batch   12/22   train_loss = 6.446\n",
      "Epoch   0 Batch   16/22   train_loss = 6.215\n",
      "Epoch   0 Batch   20/22   train_loss = 6.156\n",
      "Epoch   1 Batch    2/22   train_loss = 5.820\n",
      "Epoch   1 Batch    6/22   train_loss = 5.882\n",
      "Epoch   1 Batch   10/22   train_loss = 5.721\n",
      "Epoch   1 Batch   14/22   train_loss = 5.584\n",
      "Epoch   1 Batch   18/22   train_loss = 5.436\n",
      "Epoch   2 Batch    0/22   train_loss = 5.177\n",
      "Epoch   2 Batch    4/22   train_loss = 5.173\n",
      "Epoch   2 Batch    8/22   train_loss = 5.128\n",
      "Epoch   2 Batch   12/22   train_loss = 5.024\n",
      "Epoch   2 Batch   16/22   train_loss = 4.950\n",
      "Epoch   2 Batch   20/22   train_loss = 4.919\n",
      "Epoch   3 Batch    2/22   train_loss = 4.739\n",
      "Epoch   3 Batch    6/22   train_loss = 4.719\n",
      "Epoch   3 Batch   10/22   train_loss = 4.732\n",
      "Epoch   3 Batch   14/22   train_loss = 4.734\n",
      "Epoch   3 Batch   18/22   train_loss = 4.638\n",
      "Epoch   4 Batch    0/22   train_loss = 4.422\n",
      "Epoch   4 Batch    4/22   train_loss = 4.422\n",
      "Epoch   4 Batch    8/22   train_loss = 4.446\n",
      "Epoch   4 Batch   12/22   train_loss = 4.367\n",
      "Epoch   4 Batch   16/22   train_loss = 4.336\n",
      "Epoch   4 Batch   20/22   train_loss = 4.261\n",
      "Epoch   5 Batch    2/22   train_loss = 4.189\n",
      "Epoch   5 Batch    6/22   train_loss = 4.154\n",
      "Epoch   5 Batch   10/22   train_loss = 4.132\n",
      "Epoch   5 Batch   14/22   train_loss = 4.153\n",
      "Epoch   5 Batch   18/22   train_loss = 4.092\n",
      "Epoch   6 Batch    0/22   train_loss = 3.930\n",
      "Epoch   6 Batch    4/22   train_loss = 3.882\n",
      "Epoch   6 Batch    8/22   train_loss = 3.919\n",
      "Epoch   6 Batch   12/22   train_loss = 3.818\n",
      "Epoch   6 Batch   16/22   train_loss = 3.754\n",
      "Epoch   6 Batch   20/22   train_loss = 3.702\n",
      "Epoch   7 Batch    2/22   train_loss = 3.722\n",
      "Epoch   7 Batch    6/22   train_loss = 3.659\n",
      "Epoch   7 Batch   10/22   train_loss = 3.580\n",
      "Epoch   7 Batch   14/22   train_loss = 3.587\n",
      "Epoch   7 Batch   18/22   train_loss = 3.560\n",
      "Epoch   8 Batch    0/22   train_loss = 3.442\n",
      "Epoch   8 Batch    4/22   train_loss = 3.423\n",
      "Epoch   8 Batch    8/22   train_loss = 3.443\n",
      "Epoch   8 Batch   12/22   train_loss = 3.309\n",
      "Epoch   8 Batch   16/22   train_loss = 3.274\n",
      "Epoch   8 Batch   20/22   train_loss = 3.223\n",
      "Epoch   9 Batch    2/22   train_loss = 3.219\n",
      "Epoch   9 Batch    6/22   train_loss = 3.152\n",
      "Epoch   9 Batch   10/22   train_loss = 3.115\n",
      "Epoch   9 Batch   14/22   train_loss = 3.118\n",
      "Epoch   9 Batch   18/22   train_loss = 3.131\n",
      "Epoch  10 Batch    0/22   train_loss = 3.001\n",
      "Epoch  10 Batch    4/22   train_loss = 2.981\n",
      "Epoch  10 Batch    8/22   train_loss = 2.994\n",
      "Epoch  10 Batch   12/22   train_loss = 2.834\n",
      "Epoch  10 Batch   16/22   train_loss = 2.842\n",
      "Epoch  10 Batch   20/22   train_loss = 2.764\n",
      "Epoch  11 Batch    2/22   train_loss = 2.795\n",
      "Epoch  11 Batch    6/22   train_loss = 2.715\n",
      "Epoch  11 Batch   10/22   train_loss = 2.701\n",
      "Epoch  11 Batch   14/22   train_loss = 2.644\n",
      "Epoch  11 Batch   18/22   train_loss = 2.688\n",
      "Epoch  12 Batch    0/22   train_loss = 2.611\n",
      "Epoch  12 Batch    4/22   train_loss = 2.602\n",
      "Epoch  12 Batch    8/22   train_loss = 2.543\n",
      "Epoch  12 Batch   12/22   train_loss = 2.419\n",
      "Epoch  12 Batch   16/22   train_loss = 2.430\n",
      "Epoch  12 Batch   20/22   train_loss = 2.367\n",
      "Epoch  13 Batch    2/22   train_loss = 2.395\n",
      "Epoch  13 Batch    6/22   train_loss = 2.348\n",
      "Epoch  13 Batch   10/22   train_loss = 2.344\n",
      "Epoch  13 Batch   14/22   train_loss = 2.228\n",
      "Epoch  13 Batch   18/22   train_loss = 2.263\n",
      "Epoch  14 Batch    0/22   train_loss = 2.221\n",
      "Epoch  14 Batch    4/22   train_loss = 2.174\n",
      "Epoch  14 Batch    8/22   train_loss = 2.143\n",
      "Epoch  14 Batch   12/22   train_loss = 2.076\n",
      "Epoch  14 Batch   16/22   train_loss = 2.066\n",
      "Epoch  14 Batch   20/22   train_loss = 1.976\n",
      "Epoch  15 Batch    2/22   train_loss = 2.034\n",
      "Epoch  15 Batch    6/22   train_loss = 1.967\n",
      "Epoch  15 Batch   10/22   train_loss = 1.979\n",
      "Epoch  15 Batch   14/22   train_loss = 1.932\n",
      "Epoch  15 Batch   18/22   train_loss = 1.912\n",
      "Epoch  16 Batch    0/22   train_loss = 1.859\n",
      "Epoch  16 Batch    4/22   train_loss = 1.879\n",
      "Epoch  16 Batch    8/22   train_loss = 1.807\n",
      "Epoch  16 Batch   12/22   train_loss = 1.775\n",
      "Epoch  16 Batch   16/22   train_loss = 1.772\n",
      "Epoch  16 Batch   20/22   train_loss = 1.689\n",
      "Epoch  17 Batch    2/22   train_loss = 1.772\n",
      "Epoch  17 Batch    6/22   train_loss = 1.684\n",
      "Epoch  17 Batch   10/22   train_loss = 1.706\n",
      "Epoch  17 Batch   14/22   train_loss = 1.694\n",
      "Epoch  17 Batch   18/22   train_loss = 1.659\n",
      "Epoch  18 Batch    0/22   train_loss = 1.598\n",
      "Epoch  18 Batch    4/22   train_loss = 1.665\n",
      "Epoch  18 Batch    8/22   train_loss = 1.582\n",
      "Epoch  18 Batch   12/22   train_loss = 1.543\n",
      "Epoch  18 Batch   16/22   train_loss = 1.599\n",
      "Epoch  18 Batch   20/22   train_loss = 1.533\n",
      "Epoch  19 Batch    2/22   train_loss = 1.484\n",
      "Epoch  19 Batch    6/22   train_loss = 1.510\n",
      "Epoch  19 Batch   10/22   train_loss = 1.562\n",
      "Epoch  19 Batch   14/22   train_loss = 1.462\n",
      "Epoch  19 Batch   18/22   train_loss = 1.483\n",
      "Epoch  20 Batch    0/22   train_loss = 1.423\n",
      "Epoch  20 Batch    4/22   train_loss = 1.373\n",
      "Epoch  20 Batch    8/22   train_loss = 1.351\n",
      "Epoch  20 Batch   12/22   train_loss = 1.368\n",
      "Epoch  20 Batch   16/22   train_loss = 1.371\n",
      "Epoch  20 Batch   20/22   train_loss = 1.317\n",
      "Epoch  21 Batch    2/22   train_loss = 1.354\n",
      "Epoch  21 Batch    6/22   train_loss = 1.213\n",
      "Epoch  21 Batch   10/22   train_loss = 1.277\n",
      "Epoch  21 Batch   14/22   train_loss = 1.274\n",
      "Epoch  21 Batch   18/22   train_loss = 1.201\n",
      "Epoch  22 Batch    0/22   train_loss = 1.161\n",
      "Epoch  22 Batch    4/22   train_loss = 1.197\n",
      "Epoch  22 Batch    8/22   train_loss = 1.056\n",
      "Epoch  22 Batch   12/22   train_loss = 1.051\n",
      "Epoch  22 Batch   16/22   train_loss = 1.125\n",
      "Epoch  22 Batch   20/22   train_loss = 1.036\n",
      "Epoch  23 Batch    2/22   train_loss = 1.038\n",
      "Epoch  23 Batch    6/22   train_loss = 0.979\n",
      "Epoch  23 Batch   10/22   train_loss = 0.983\n",
      "Epoch  23 Batch   14/22   train_loss = 0.924\n",
      "Epoch  23 Batch   18/22   train_loss = 0.949\n",
      "Epoch  24 Batch    0/22   train_loss = 0.933\n",
      "Epoch  24 Batch    4/22   train_loss = 0.902\n",
      "Epoch  24 Batch    8/22   train_loss = 0.810\n",
      "Epoch  24 Batch   12/22   train_loss = 0.844\n",
      "Epoch  24 Batch   16/22   train_loss = 0.831\n",
      "Epoch  24 Batch   20/22   train_loss = 0.796\n",
      "Epoch  25 Batch    2/22   train_loss = 0.835\n",
      "Epoch  25 Batch    6/22   train_loss = 0.768\n",
      "Epoch  25 Batch   10/22   train_loss = 0.766\n",
      "Epoch  25 Batch   14/22   train_loss = 0.747\n",
      "Epoch  25 Batch   18/22   train_loss = 0.747\n",
      "Epoch  26 Batch    0/22   train_loss = 0.723\n",
      "Epoch  26 Batch    4/22   train_loss = 0.740\n",
      "Epoch  26 Batch    8/22   train_loss = 0.647\n",
      "Epoch  26 Batch   12/22   train_loss = 0.658\n",
      "Epoch  26 Batch   16/22   train_loss = 0.678\n",
      "Epoch  26 Batch   20/22   train_loss = 0.655\n",
      "Epoch  27 Batch    2/22   train_loss = 0.658\n",
      "Epoch  27 Batch    6/22   train_loss = 0.637\n",
      "Epoch  27 Batch   10/22   train_loss = 0.645\n",
      "Epoch  27 Batch   14/22   train_loss = 0.609\n",
      "Epoch  27 Batch   18/22   train_loss = 0.598\n",
      "Epoch  28 Batch    0/22   train_loss = 0.612\n",
      "Epoch  28 Batch    4/22   train_loss = 0.608\n",
      "Epoch  28 Batch    8/22   train_loss = 0.541\n",
      "Epoch  28 Batch   12/22   train_loss = 0.580\n",
      "Epoch  28 Batch   16/22   train_loss = 0.583\n",
      "Epoch  28 Batch   20/22   train_loss = 0.539\n",
      "Epoch  29 Batch    2/22   train_loss = 0.579\n",
      "Epoch  29 Batch    6/22   train_loss = 0.564\n",
      "Epoch  29 Batch   10/22   train_loss = 0.563\n",
      "Epoch  29 Batch   14/22   train_loss = 0.530\n",
      "Epoch  29 Batch   18/22   train_loss = 0.525\n",
      "Epoch  30 Batch    0/22   train_loss = 0.550\n",
      "Epoch  30 Batch    4/22   train_loss = 0.538\n",
      "Epoch  30 Batch    8/22   train_loss = 0.490\n",
      "Epoch  30 Batch   12/22   train_loss = 0.537\n",
      "Epoch  30 Batch   16/22   train_loss = 0.506\n",
      "Epoch  30 Batch   20/22   train_loss = 0.477\n",
      "Epoch  31 Batch    2/22   train_loss = 0.525\n",
      "Epoch  31 Batch    6/22   train_loss = 0.501\n",
      "Epoch  31 Batch   10/22   train_loss = 0.504\n",
      "Epoch  31 Batch   14/22   train_loss = 0.503\n",
      "Epoch  31 Batch   18/22   train_loss = 0.460\n",
      "Epoch  32 Batch    0/22   train_loss = 0.470\n",
      "Epoch  32 Batch    4/22   train_loss = 0.497\n",
      "Epoch  32 Batch    8/22   train_loss = 0.441\n",
      "Epoch  32 Batch   12/22   train_loss = 0.460\n",
      "Epoch  32 Batch   16/22   train_loss = 0.467\n",
      "Epoch  32 Batch   20/22   train_loss = 0.433\n",
      "Epoch  33 Batch    2/22   train_loss = 0.451\n",
      "Epoch  33 Batch    6/22   train_loss = 0.438\n",
      "Epoch  33 Batch   10/22   train_loss = 0.467\n",
      "Epoch  33 Batch   14/22   train_loss = 0.429\n",
      "Epoch  33 Batch   18/22   train_loss = 0.402\n",
      "Epoch  34 Batch    0/22   train_loss = 0.424\n",
      "Epoch  34 Batch    4/22   train_loss = 0.427\n",
      "Epoch  34 Batch    8/22   train_loss = 0.378\n",
      "Epoch  34 Batch   12/22   train_loss = 0.404\n",
      "Epoch  34 Batch   16/22   train_loss = 0.401\n",
      "Epoch  34 Batch   20/22   train_loss = 0.365\n",
      "Epoch  35 Batch    2/22   train_loss = 0.389\n",
      "Epoch  35 Batch    6/22   train_loss = 0.378\n",
      "Epoch  35 Batch   10/22   train_loss = 0.391\n",
      "Epoch  35 Batch   14/22   train_loss = 0.370\n",
      "Epoch  35 Batch   18/22   train_loss = 0.349\n",
      "Epoch  36 Batch    0/22   train_loss = 0.365\n",
      "Epoch  36 Batch    4/22   train_loss = 0.369\n",
      "Epoch  36 Batch    8/22   train_loss = 0.335\n",
      "Epoch  36 Batch   12/22   train_loss = 0.358\n",
      "Epoch  36 Batch   16/22   train_loss = 0.357\n",
      "Epoch  36 Batch   20/22   train_loss = 0.329\n",
      "Epoch  37 Batch    2/22   train_loss = 0.354\n",
      "Epoch  37 Batch    6/22   train_loss = 0.347\n",
      "Epoch  37 Batch   10/22   train_loss = 0.361\n",
      "Epoch  37 Batch   14/22   train_loss = 0.337\n",
      "Epoch  37 Batch   18/22   train_loss = 0.325\n",
      "Epoch  38 Batch    0/22   train_loss = 0.340\n",
      "Epoch  38 Batch    4/22   train_loss = 0.348\n",
      "Epoch  38 Batch    8/22   train_loss = 0.321\n",
      "Epoch  38 Batch   12/22   train_loss = 0.340\n",
      "Epoch  38 Batch   16/22   train_loss = 0.341\n",
      "Epoch  38 Batch   20/22   train_loss = 0.316\n",
      "Epoch  39 Batch    2/22   train_loss = 0.344\n",
      "Epoch  39 Batch    6/22   train_loss = 0.332\n",
      "Epoch  39 Batch   10/22   train_loss = 0.350\n",
      "Epoch  39 Batch   14/22   train_loss = 0.327\n",
      "Epoch  39 Batch   18/22   train_loss = 0.315\n",
      "Epoch  40 Batch    0/22   train_loss = 0.329\n",
      "Epoch  40 Batch    4/22   train_loss = 0.339\n",
      "Epoch  40 Batch    8/22   train_loss = 0.313\n",
      "Epoch  40 Batch   12/22   train_loss = 0.329\n",
      "Epoch  40 Batch   16/22   train_loss = 0.335\n",
      "Epoch  40 Batch   20/22   train_loss = 0.311\n",
      "Epoch  41 Batch    2/22   train_loss = 0.335\n",
      "Epoch  41 Batch    6/22   train_loss = 0.325\n",
      "Epoch  41 Batch   10/22   train_loss = 0.341\n",
      "Epoch  41 Batch   14/22   train_loss = 0.320\n",
      "Epoch  41 Batch   18/22   train_loss = 0.308\n",
      "Epoch  42 Batch    0/22   train_loss = 0.322\n",
      "Epoch  42 Batch    4/22   train_loss = 0.333\n",
      "Epoch  42 Batch    8/22   train_loss = 0.309\n",
      "Epoch  42 Batch   12/22   train_loss = 0.324\n",
      "Epoch  42 Batch   16/22   train_loss = 0.329\n",
      "Epoch  42 Batch   20/22   train_loss = 0.306\n",
      "Epoch  43 Batch    2/22   train_loss = 0.330\n",
      "Epoch  43 Batch    6/22   train_loss = 0.321\n",
      "Epoch  43 Batch   10/22   train_loss = 0.336\n",
      "Epoch  43 Batch   14/22   train_loss = 0.317\n",
      "Epoch  43 Batch   18/22   train_loss = 0.305\n",
      "Epoch  44 Batch    0/22   train_loss = 0.318\n",
      "Epoch  44 Batch    4/22   train_loss = 0.329\n",
      "Epoch  44 Batch    8/22   train_loss = 0.306\n",
      "Epoch  44 Batch   12/22   train_loss = 0.321\n",
      "Epoch  44 Batch   16/22   train_loss = 0.325\n",
      "Epoch  44 Batch   20/22   train_loss = 0.303\n",
      "Epoch  45 Batch    2/22   train_loss = 0.328\n",
      "Epoch  45 Batch    6/22   train_loss = 0.318\n",
      "Epoch  45 Batch   10/22   train_loss = 0.333\n",
      "Epoch  45 Batch   14/22   train_loss = 0.315\n",
      "Epoch  45 Batch   18/22   train_loss = 0.302\n",
      "Epoch  46 Batch    0/22   train_loss = 0.315\n",
      "Epoch  46 Batch    4/22   train_loss = 0.326\n",
      "Epoch  46 Batch    8/22   train_loss = 0.304\n",
      "Epoch  46 Batch   12/22   train_loss = 0.318\n",
      "Epoch  46 Batch   16/22   train_loss = 0.324\n",
      "Epoch  46 Batch   20/22   train_loss = 0.301\n",
      "Epoch  47 Batch    2/22   train_loss = 0.326\n",
      "Epoch  47 Batch    6/22   train_loss = 0.315\n",
      "Epoch  47 Batch   10/22   train_loss = 0.331\n",
      "Epoch  47 Batch   14/22   train_loss = 0.313\n",
      "Epoch  47 Batch   18/22   train_loss = 0.299\n",
      "Epoch  48 Batch    0/22   train_loss = 0.314\n",
      "Epoch  48 Batch    4/22   train_loss = 0.324\n",
      "Epoch  48 Batch    8/22   train_loss = 0.302\n",
      "Epoch  48 Batch   12/22   train_loss = 0.316\n",
      "Epoch  48 Batch   16/22   train_loss = 0.320\n",
      "Epoch  48 Batch   20/22   train_loss = 0.300\n",
      "Epoch  49 Batch    2/22   train_loss = 0.325\n",
      "Epoch  49 Batch    6/22   train_loss = 0.314\n",
      "Epoch  49 Batch   10/22   train_loss = 0.329\n",
      "Epoch  49 Batch   14/22   train_loss = 0.311\n",
      "Epoch  49 Batch   18/22   train_loss = 0.298\n",
      "Model Trained and Saved\n"
     ]
    }
   ],
   "source": [
    "\"\"\"\n",
    "DON'T MODIFY ANYTHING IN THIS CELL\n",
    "\"\"\"\n",
    "batches = get_batches(int_text, batch_size, seq_length)\n",
    "\n",
    "# add for the visualisation \n",
    "losses = []\n",
    "\n",
    "with tf.Session(graph=train_graph) as sess:\n",
    "    sess.run(tf.global_variables_initializer())\n",
    "\n",
    "    for epoch_i in range(num_epochs):\n",
    "        state = sess.run(initial_state, {input_text: batches[0][0]})\n",
    "\n",
    "        for batch_i, (x, y) in enumerate(batches):\n",
    "            feed = {\n",
    "                input_text: x,\n",
    "                targets: y,\n",
    "                initial_state: state,\n",
    "                lr: learning_rate}\n",
    "            train_loss, state, _ = sess.run([cost, final_state, train_op], feed)\n",
    "\n",
    "            # Show every <show_every_n_batches> batches\n",
    "            if (epoch_i * len(batches) + batch_i) % show_every_n_batches == 0:\n",
    "                print('Epoch {:>3} Batch {:>4}/{}   train_loss = {:.3f}'.format(\n",
    "                    epoch_i,\n",
    "                    batch_i,\n",
    "                    len(batches),\n",
    "                    train_loss))\n",
    "                losses.append(train_loss)\n",
    "\n",
    "    # Save Model\n",
    "    saver = tf.train.Saver()\n",
    "    saver.save(sess, save_dir)\n",
    "    print('Model Trained and Saved')"
   ]
  },
  {
   "cell_type": "code",
   "execution_count": 17,
   "metadata": {
    "collapsed": false,
    "deletable": true,
    "editable": true
   },
   "outputs": [
    {
     "data": {
      "image/png": "[encoded data removed]",
      "text/plain": [
       "<matplotlib.figure.Figure at 0x7fdda06055c0>"
      ]
     },
     "metadata": {},
     "output_type": "display_data"
    }
   ],
   "source": [
    "import matplotlib.pyplot as plt\n",
    "\n",
    "plt.plot(losses, label='Training loss')\n",
    "plt.legend()\n",
    "\n",
    "plt.show()"
   ]
  },
  {
   "cell_type": "markdown",
   "metadata": {
    "deletable": true,
    "editable": true
   },
   "source": [
    "## Save Parameters\n",
    "Save `seq_length` and `save_dir` for generating a new TV script."
   ]
  },
  {
   "cell_type": "code",
   "execution_count": 18,
   "metadata": {
    "collapsed": false,
    "deletable": true,
    "editable": true
   },
   "outputs": [],
   "source": [
    "\"\"\"\n",
    "DON'T MODIFY ANYTHING IN THIS CELL\n",
    "\"\"\"\n",
    "# Save parameters for checkpoint\n",
    "helper.save_params((seq_length, save_dir))"
   ]
  },
  {
   "cell_type": "markdown",
   "metadata": {
    "deletable": true,
    "editable": true
   },
   "source": [
    "# Checkpoint"
   ]
  },
  {
   "cell_type": "code",
   "execution_count": 19,
   "metadata": {
    "collapsed": false,
    "deletable": true,
    "editable": true
   },
   "outputs": [],
   "source": [
    "\"\"\"\n",
    "DON'T MODIFY ANYTHING IN THIS CELL\n",
    "\"\"\"\n",
    "import tensorflow as tf\n",
    "import numpy as np\n",
    "import helper\n",
    "import problem_unittests as tests\n",
    "\n",
    "_, vocab_to_int, int_to_vocab, token_dict = helper.load_preprocess()\n",
    "seq_length, load_dir = helper.load_params()"
   ]
  },
  {
   "cell_type": "markdown",
   "metadata": {
    "deletable": true,
    "editable": true
   },
   "source": [
    "## Implement Generate Functions\n",
    "### Get Tensors\n",
    "Get tensors from `loaded_graph` using the function [`get_tensor_by_name()`](https://www.tensorflow.org/api_docs/python/tf/Graph#get_tensor_by_name).  Get the tensors using the following names:\n",
    "- \"input:0\"\n",
    "- \"initial_state:0\"\n",
    "- \"final_state:0\"\n",
    "- \"probs:0\"\n",
    "\n",
    "Return the tensors in the following tuple `(InputTensor, InitialStateTensor, FinalStateTensor, ProbsTensor)` "
   ]
  },
  {
   "cell_type": "code",
   "execution_count": 20,
   "metadata": {
    "collapsed": false,
    "deletable": true,
    "editable": true
   },
   "outputs": [
    {
     "name": "stdout",
     "output_type": "stream",
     "text": [
      "Tests Passed\n"
     ]
    }
   ],
   "source": [
    "def get_tensors(loaded_graph):\n",
    "    \"\"\"\n",
    "    Get input, initial state, final state, and probabilities tensor from <loaded_graph>\n",
    "    :param loaded_graph: TensorFlow graph loaded from file\n",
    "    :return: Tuple (InputTensor, InitialStateTensor, FinalStateTensor, ProbsTensor)\n",
    "    \"\"\"\n",
    "    # TODO: Implement Function\n",
    "    return (\n",
    "        loaded_graph.get_tensor_by_name(\"input:0\"), \n",
    "        loaded_graph.get_tensor_by_name('initial_state:0'), \n",
    "        loaded_graph.get_tensor_by_name('final_state:0'), \n",
    "        loaded_graph.get_tensor_by_name('probs:0')\n",
    "    )\n",
    "\n",
    "\n",
    "\"\"\"\n",
    "DON'T MODIFY ANYTHING IN THIS CELL THAT IS BELOW THIS LINE\n",
    "\"\"\"\n",
    "tests.test_get_tensors(get_tensors)"
   ]
  },
  {
   "cell_type": "markdown",
   "metadata": {
    "deletable": true,
    "editable": true
   },
   "source": [
    "### Choose Word\n",
    "Implement the `pick_word()` function to select the next word using `probabilities`."
   ]
  },
  {
   "cell_type": "code",
   "execution_count": 21,
   "metadata": {
    "collapsed": false,
    "deletable": true,
    "editable": true
   },
   "outputs": [
    {
     "name": "stdout",
     "output_type": "stream",
     "text": [
      "Tests Passed\n"
     ]
    }
   ],
   "source": [
    "def pick_word(probabilities, int_to_vocab):\n",
    "    \"\"\"\n",
    "    Pick the next word in the generated text\n",
    "    :param probabilities: Probabilites of the next word\n",
    "    :param int_to_vocab: Dictionary of word ids as the keys and words as the values\n",
    "    :return: String of the predicted word\n",
    "    \"\"\"\n",
    "    # TODO: Implement Function\n",
    "    \n",
    "    # using argmax is wrong! should add some random. \n",
    "    # return int_to_vocab[np.argmax(probabilities)]\n",
    "    \n",
    "    return np.random.choice(list(int_to_vocab.values()), p = probabilities)\n",
    "\n",
    "\n",
    "\"\"\"\n",
    "DON'T MODIFY ANYTHING IN THIS CELL THAT IS BELOW THIS LINE\n",
    "\"\"\"\n",
    "tests.test_pick_word(pick_word)"
   ]
  },
  {
   "cell_type": "markdown",
   "metadata": {
    "deletable": true,
    "editable": true
   },
   "source": [
    "## Generate TV Script\n",
    "This will generate the TV script for you.  Set `gen_length` to the length of TV script you want to generate."
   ]
  },
  {
   "cell_type": "code",
   "execution_count": 22,
   "metadata": {
    "collapsed": false,
    "deletable": true,
    "editable": true
   },
   "outputs": [
    {
     "name": "stdout",
     "output_type": "stream",
     "text": [
      "homer_simpson: you know, moe, you gotta stay out of the sequel.\"\n",
      "moe_szyslak: okay, you didn't pay for the school?\n",
      "harv:(to moe) easy there, you and me goes, he's the big payday around.\n",
      "moe_szyslak:(defensive) hey, i don't know.\n",
      "homer_simpson:(checking watch, chipper) actually, you no doubt!\n",
      "moe_szyslak:(excited) then you should be mine. sure is he give me?\n",
      "more(to bears) fat tony... brunswick.\n",
      "homer_simpson:(looking at) huh?\n",
      "homer_simpson:(big knowing laugh)\n",
      "moe_szyslak: yeah, so you're looking for a joe puke-pail like i mean the mob only of.\n",
      "carl_carlson: homer, this is private, but i got a hundred!\n",
      "homer_simpson: were, the too you've to take my best life?\n",
      "barney_gumble:(amid murmurs)(nervous chuckle)\n",
      "moe_szyslak:(nervous) i've been working on the gentleman's club!\n",
      "narrator:(nervous) but it goes, moe?\n",
      "homer_simpson:(sad)\n"
     ]
    }
   ],
   "source": [
    "gen_length = 200\n",
    "# homer_simpson, moe_szyslak, or Barney_Gumble\n",
    "prime_word = 'homer_simpson'\n",
    "\n",
    "\"\"\"\n",
    "DON'T MODIFY ANYTHING IN THIS CELL THAT IS BELOW THIS LINE\n",
    "\"\"\"\n",
    "loaded_graph = tf.Graph()\n",
    "with tf.Session(graph=loaded_graph) as sess:\n",
    "    # Load saved model\n",
    "    loader = tf.train.import_meta_graph(load_dir + '.meta')\n",
    "    loader.restore(sess, load_dir)\n",
    "\n",
    "    # Get Tensors from loaded model\n",
    "    input_text, initial_state, final_state, probs = get_tensors(loaded_graph)\n",
    "\n",
    "    # Sentences generation setup\n",
    "    gen_sentences = [prime_word + ':']\n",
    "    prev_state = sess.run(initial_state, {input_text: np.array([[1]])})\n",
    "\n",
    "    # Generate sentences\n",
    "    for n in range(gen_length):\n",
    "        # Dynamic Input\n",
    "        dyn_input = [[vocab_to_int[word] for word in gen_sentences[-seq_length:]]]\n",
    "        dyn_seq_length = len(dyn_input[0])\n",
    "\n",
    "        # Get Prediction\n",
    "        probabilities, prev_state = sess.run(\n",
    "            [probs, final_state],\n",
    "            {input_text: dyn_input, initial_state: prev_state})\n",
    "        \n",
    "        pred_word = pick_word(probabilities[dyn_seq_length-1], int_to_vocab)\n",
    "\n",
    "        gen_sentences.append(pred_word)\n",
    "    \n",
    "    # Remove tokens\n",
    "    tv_script = ' '.join(gen_sentences)\n",
    "    for key, token in token_dict.items():\n",
    "        ending = ' ' if key in ['\\n', '(', '\"'] else ''\n",
    "        tv_script = tv_script.replace(' ' + token.lower(), key)\n",
    "    tv_script = tv_script.replace('\\n ', '\\n')\n",
    "    tv_script = tv_script.replace('( ', '(')\n",
    "        \n",
    "    print(tv_script)"
   ]
  },
  {
   "cell_type": "markdown",
   "metadata": {
    "deletable": true,
    "editable": true
   },
   "source": [
    "# The TV Script is Nonsensical\n",
    "It's ok if the TV script doesn't make any sense.  We trained on less than a megabyte of text.  In order to get good results, you'll have to use a smaller vocabulary or get more data.  Luckly there's more data!  As we mentioned in the begging of this project, this is a subset of [another dataset](https://www.kaggle.com/wcukierski/the-simpsons-by-the-data).  We didn't have you train on all the data, because that would take too long.  However, you are free to train your neural network on all the data.  After you complete the project, of course.\n",
    "# Submitting This Project\n",
    "When submitting this project, make sure to run all the cells before saving the notebook. Save the notebook file as \"dlnd_tv_script_generation.ipynb\" and save it as a HTML file under \"File\" -> \"Download as\". Include the \"helper.py\" and \"problem_unittests.py\" files in your submission."
   ]
  }
 ],
 "metadata": {
  "kernelspec": {
   "display_name": "Python 3",
   "language": "python",
   "name": "python3"
  },
  "language_info": {
   "codemirror_mode": {
    "name": "ipython",
    "version": 3
   },
   "file_extension": ".py",
   "mimetype": "text/x-python",
   "name": "python",
   "nbconvert_exporter": "python",
   "pygments_lexer": "ipython3",
   "version": "3.5.2"
  },
  "widgets": {
   "state": {},
   "version": "1.1.2"
  }
 },
 "nbformat": 4,
 "nbformat_minor": 0
}
